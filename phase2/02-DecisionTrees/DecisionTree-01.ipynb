{
 "cells": [
  {
   "cell_type": "markdown",
   "metadata": {},
   "source": [
    "### 编写代码计算经验熵\n",
    "+ 年龄：0代表青年，1代表中年，2代表老年；\n",
    "+ 有工作：0代表否，1代表是；\n",
    "+ 有自己的房子：0代表否，1代表是；\n",
    "+ 信贷情况：0代表一般，1代表好，2代表非常好；\n",
    "+ 类别(是否给贷款)：no代表否，yes代表是"
   ]
  },
  {
   "cell_type": "code",
   "execution_count": 15,
   "metadata": {},
   "outputs": [
    {
     "name": "stdout",
     "output_type": "stream",
     "text": [
      "[[0, 0, 0, 0, 'no'], [0, 0, 0, 1, 'no'], [0, 1, 0, 1, 'yes'], [0, 1, 1, 0, 'yes'], [0, 0, 0, 0, 'no'], [1, 0, 0, 0, 'no'], [1, 0, 0, 1, 'no'], [1, 1, 1, 1, 'yes'], [1, 0, 1, 2, 'yes'], [1, 0, 1, 2, 'yes'], [2, 0, 1, 2, 'yes'], [2, 0, 1, 1, 'yes'], [2, 1, 0, 1, 'yes'], [2, 1, 0, 2, 'yes'], [2, 0, 0, 0, 'no']]\n",
      "###################\n",
      "0.9709505944546686\n"
     ]
    }
   ],
   "source": [
    "# -*- coding: UTF-8 -*-\n",
    "from math import log\n",
    "\n",
    "\"\"\"\n",
    "函数说明：创建测试数据集\n",
    "\n",
    "Parameters:\n",
    "    无\n",
    "Return:\n",
    "    dataSet - 数据集\n",
    "    labels - 分类属性\n",
    "Author:\n",
    "    ChenJing\n",
    "Modify:\n",
    "    2020-05-24\n",
    "\"\"\"\n",
    "\n",
    "def createDataSet():\n",
    "    dataSet = [[0, 0, 0, 0, 'no'],\n",
    "            [0, 0, 0, 1, 'no'],\n",
    "            [0, 1, 0, 1, 'yes'],\n",
    "            [0, 1, 1, 0, 'yes'],\n",
    "            [0, 0, 0, 0, 'no'],\n",
    "            [1, 0, 0, 0, 'no'],\n",
    "            [1, 0, 0, 1, 'no'],\n",
    "            [1, 1, 1, 1, 'yes'],\n",
    "            [1, 0, 1, 2, 'yes'],\n",
    "            [1, 0, 1, 2, 'yes'],\n",
    "            [2, 0, 1, 2, 'yes'],\n",
    "            [2, 0, 1, 1, 'yes'],\n",
    "            [2, 1, 0, 1, 'yes'],\n",
    "            [2, 1, 0, 2, 'yes'],\n",
    "            [2, 0, 0, 0, 'no']]\n",
    "    labels = ['不放贷', '放贷']\n",
    "    return dataSet, labels\n",
    "\n",
    "\"\"\"\n",
    "函数说明:计算给定数据集的经验熵(香农熵)\n",
    "\n",
    "Parameters:\n",
    "    dataSet - 数据集\n",
    "Returns:\n",
    "    shannonEnt - 经验熵(香农熵)\n",
    "Author:\n",
    "    ChenJing\n",
    "Modify:\n",
    "    2020-05-24\n",
    "\"\"\"\n",
    "\n",
    "def calcShannonEnt(dataSet):\n",
    "    numEntries = len(dataSet)  # 返回数据集的行数\n",
    "    labelCounts = {}           # 保存每个标签（label）出现次数的字典\n",
    "    for featVec in dataSet:    # 对每组特征星力量进行统计\n",
    "        currentLabel = featVec[-1]    # 提取标签（label）信息\n",
    "        if currentLabel not in labelCounts.keys(): \n",
    "            labelCounts[currentLabel] = 0\n",
    "        labelCounts[currentLabel] += 1  # Lable计数\n",
    "    shannonEnt = 0.0  # 经验熵\n",
    "    for key in labelCounts:  # 计算\n",
    "        prob = float(labelCounts[key]) / numEntries # 选择该标签（label）的概率\n",
    "        shannonEnt -= prob * log(prob, 2) # 利用公式计算\n",
    "    return shannonEnt\n",
    "            \n",
    "\n",
    "dataSet, features = createDataSet()\n",
    "print(dataSet)\n",
    "print('###################')\n",
    "print(calcShannonEnt(dataSet))"
   ]
  },
  {
   "cell_type": "markdown",
   "metadata": {},
   "source": [
    "### 编写代码计算信息增益"
   ]
  },
  {
   "cell_type": "code",
   "execution_count": 24,
   "metadata": {},
   "outputs": [
    {
     "name": "stdout",
     "output_type": "stream",
     "text": [
      "第0个特征的增益：0.083\n",
      "第1个特征的增益：0.324\n",
      "第2个特征的增益：0.420\n",
      "第3个特征的增益：0.363\n",
      "最优特征索引值：2\n"
     ]
    }
   ],
   "source": [
    "# -*- coding: UTF-8 -*-\n",
    "from math import log\n",
    "\n",
    "\"\"\"\n",
    "函数说明:按照给定特征划分数据集\n",
    "\n",
    "Parameters:\n",
    "    dataSet - 待划分的数据集\n",
    "    axis - 划分数据集的特征\n",
    "    value - 需要返回的特征的值\n",
    "Returns:\n",
    "    无\n",
    "Author:\n",
    "    ChenJing\n",
    "Modify:\n",
    "    2020-05-24\n",
    "\"\"\"\n",
    "\n",
    "def splitDataSet(dataSet, axis, value):\n",
    "    retDataSet = []\n",
    "    for featVec in dataSet:\n",
    "        if featVec[axis] == value:\n",
    "            retDataSet.append(featVec)\n",
    "    return retDataSet\n",
    "\n",
    "\"\"\"\n",
    "函数说明:选择最优特征\n",
    "\n",
    "Parameters:\n",
    "    dataSet - 数据集\n",
    "Returns:\n",
    "    bestFeature - 信息增益最大的(最优)特征的索引值\n",
    "Author:\n",
    "    ChenJing\n",
    "Modify:\n",
    "    2020-05-24\n",
    "\"\"\"\n",
    "\n",
    "def chooseBestFeatureToSplit(dataSet):\n",
    "    numFeatures = len(dataSet[0]) - 1  # 特征数量\n",
    "    baseEntropy = calcShannonEnt(dataSet) # 计算数据集的经验熵\n",
    "    bestInfoGain = 0.0  # 信息增益\n",
    "    bestFeature = -1  # 最优特征的索引值\n",
    "    for i in range(numFeatures):  # 遍历所有特征\n",
    "        featList = [example[i] for example in dataSet] # 获取dataSet的第i个所有特征\n",
    "        uniqueVals = set(featList)\n",
    "        newEntropy = 0.0 # 经验条件熵\n",
    "        for val in uniqueVals:\n",
    "            subDataSet = splitDataSet(dataSet, i, val)\n",
    "            prob = len(subDataSet) / float(len(dataSet))\n",
    "            newEntropy += prob * calcShannonEnt(subDataSet)\n",
    "        infoGain = baseEntropy - newEntropy\n",
    "        print(\"第{}个特征的增益：{:.3f}\".format(i,infoGain))\n",
    "        if (bestInfoGain < infoGain):\n",
    "            bestInfoGain = infoGain\n",
    "            bestFeature = i\n",
    "    return bestFeature\n",
    "            \n",
    "print(\"最优特征索引值：\" + str(chooseBestFeatureToSplit(dataSet)))"
   ]
  },
  {
   "cell_type": "code",
   "execution_count": null,
   "metadata": {},
   "outputs": [],
   "source": []
  }
 ],
 "metadata": {
  "kernelspec": {
   "display_name": "Python 3",
   "language": "python",
   "name": "python3"
  },
  "language_info": {
   "codemirror_mode": {
    "name": "ipython",
    "version": 3
   },
   "file_extension": ".py",
   "mimetype": "text/x-python",
   "name": "python",
   "nbconvert_exporter": "python",
   "pygments_lexer": "ipython3",
   "version": "3.7.0"
  }
 },
 "nbformat": 4,
 "nbformat_minor": 2
}
