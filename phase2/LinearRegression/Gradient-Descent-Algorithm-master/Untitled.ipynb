{
 "cells": [
  {
   "cell_type": "code",
   "execution_count": 2,
   "metadata": {},
   "outputs": [
    {
     "data": {
      "text/html": [
       "<div>\n",
       "<style scoped>\n",
       "    .dataframe tbody tr th:only-of-type {\n",
       "        vertical-align: middle;\n",
       "    }\n",
       "\n",
       "    .dataframe tbody tr th {\n",
       "        vertical-align: top;\n",
       "    }\n",
       "\n",
       "    .dataframe thead th {\n",
       "        text-align: right;\n",
       "    }\n",
       "</style>\n",
       "<table border=\"1\" class=\"dataframe\">\n",
       "  <thead>\n",
       "    <tr style=\"text-align: right;\">\n",
       "      <th></th>\n",
       "      <th>distance</th>\n",
       "      <th>accuracy</th>\n",
       "    </tr>\n",
       "  </thead>\n",
       "  <tbody>\n",
       "    <tr>\n",
       "      <th>0</th>\n",
       "      <td>290.3</td>\n",
       "      <td>59.5</td>\n",
       "    </tr>\n",
       "    <tr>\n",
       "      <th>1</th>\n",
       "      <td>302.1</td>\n",
       "      <td>54.7</td>\n",
       "    </tr>\n",
       "    <tr>\n",
       "      <th>2</th>\n",
       "      <td>287.1</td>\n",
       "      <td>62.4</td>\n",
       "    </tr>\n",
       "    <tr>\n",
       "      <th>3</th>\n",
       "      <td>282.7</td>\n",
       "      <td>65.4</td>\n",
       "    </tr>\n",
       "    <tr>\n",
       "      <th>4</th>\n",
       "      <td>299.1</td>\n",
       "      <td>52.8</td>\n",
       "    </tr>\n",
       "  </tbody>\n",
       "</table>\n",
       "</div>"
      ],
      "text/plain": [
       "   distance  accuracy\n",
       "0     290.3      59.5\n",
       "1     302.1      54.7\n",
       "2     287.1      62.4\n",
       "3     282.7      65.4\n",
       "4     299.1      52.8"
      ]
     },
     "execution_count": 2,
     "metadata": {},
     "output_type": "execute_result"
    }
   ],
   "source": [
    "import pandas as pd\n",
    "\n",
    "pga=pd.read_csv('./data/pga.csv')\n",
    "pga.head()"
   ]
  },
  {
   "cell_type": "code",
   "execution_count": 3,
   "metadata": {
    "scrolled": true
   },
   "outputs": [
    {
     "data": {
      "image/png": "[encoded data removed]",
      "text/plain": [
       "<Figure size 432x288 with 1 Axes>"
      ]
     },
     "metadata": {
      "needs_background": "light"
     },
     "output_type": "display_data"
    }
   ],
   "source": [
    "# Data preprocessing\n",
    "# Normalize the data\n",
    "pga['distance']=(pga['distance']-pga['distance'].mean())/pga['distance'].std()\n",
    "pga['accuracy']=(pga['accuracy']-pga['accuracy'].mean())/pga['accuracy'].std()\n",
    "pga.head()\n",
    "\n",
    "%matplotlib inline\n",
    "import matplotlib.pyplot as plt\n",
    "\n",
    "plt.scatter(pga['distance'],pga['accuracy'])\n",
    "plt.xlabel('normalized distance')\n",
    "plt.ylabel('normalized accuracy')\n",
    "plt.show()"
   ]
  },
  {
   "cell_type": "code",
   "execution_count": 4,
   "metadata": {},
   "outputs": [
    {
     "name": "stdout",
     "output_type": "stream",
     "text": [
      "1.440997464146266e-14\n",
      "[-0.60759882]\n"
     ]
    }
   ],
   "source": [
    "# Use linear model to model this data.\n",
    "from sklearn.linear_model import LinearRegression\n",
    "import numpy as np\n",
    "\n",
    "lr=LinearRegression()\n",
    "lr.fit(pga.distance[:,np.newaxis],pga['accuracy'])  # Another way is using pga[['distance']]\n",
    "theta0=lr.intercept_\n",
    "theta1=lr.coef_\n",
    "print(theta0)\n",
    "print(theta1)"
   ]
  },
  {
   "cell_type": "code",
   "execution_count": null,
   "metadata": {
    "collapsed": true
   },
   "outputs": [],
   "source": []
  },
  {
   "cell_type": "code",
   "execution_count": 5,
   "metadata": {
    "scrolled": true
   },
   "outputs": [
    {
     "data": {
      "image/png": "[encoded data removed]",
      "text/plain": [
       "<Figure size 432x288 with 1 Axes>"
      ]
     },
     "metadata": {
      "needs_background": "light"
     },
     "output_type": "display_data"
    },
    {
     "name": "stdout",
     "output_type": "stream",
     "text": [
      "0      0.314379\n",
      "1      1.693777\n",
      "2     -0.059695\n",
      "3     -0.574047\n",
      "4      1.343083\n",
      "5      1.471671\n",
      "6      1.553499\n",
      "7     -0.948121\n",
      "8      0.022134\n",
      "9     -0.340251\n",
      "10     1.062527\n",
      "11    -0.503908\n",
      "12    -0.422079\n",
      "13     0.513106\n",
      "14    -0.585737\n",
      "15     0.033823\n",
      "16    -0.983191\n",
      "17     0.478036\n",
      "18     0.267620\n",
      "19     0.255930\n",
      "20     1.308013\n",
      "21    -0.796154\n",
      "22     0.852110\n",
      "23    -0.012936\n",
      "24    -0.574047\n",
      "25    -1.158538\n",
      "26    -2.000204\n",
      "27    -0.281802\n",
      "28     3.213453\n",
      "29    -0.667566\n",
      "         ...   \n",
      "167    1.822365\n",
      "168   -0.655876\n",
      "169   -0.667566\n",
      "170   -0.071385\n",
      "171    0.688453\n",
      "172   -0.468839\n",
      "173    1.085907\n",
      "174    0.384518\n",
      "175    1.798985\n",
      "176    0.606624\n",
      "177   -0.761084\n",
      "178    0.630004\n",
      "179   -0.422079\n",
      "180   -0.913052\n",
      "181    0.618314\n",
      "182   -0.422079\n",
      "183   -0.655876\n",
      "184   -0.819533\n",
      "185    0.010444\n",
      "186    0.010444\n",
      "187    1.249564\n",
      "188    1.401532\n",
      "189    0.431277\n",
      "190    0.887180\n",
      "191    0.045513\n",
      "192    1.191115\n",
      "193   -0.188283\n",
      "194   -0.270112\n",
      "195   -0.083075\n",
      "196   -1.462473\n",
      "Name: distance, Length: 197, dtype: float64\n"
     ]
    }
   ],
   "source": [
    "#calculating cost-function for each theta1\n",
    "#计算平均累积误差\n",
    "def cost(x,y,theta0,theta1):\n",
    "    J=0\n",
    "    for i in range(len(x)):\n",
    "        mse=(x[i]*theta1+theta0-y[i])**2\n",
    "        J+=mse\n",
    "    return J/(2*len(x))\n",
    "\n",
    "theta0=100\n",
    "theta1s = np.linspace(-3,2,100)\n",
    "costs=[]\n",
    "for theta1 in theta1s:\n",
    "    costs.append(cost(pga['distance'],pga['accuracy'],theta0,theta1))\n",
    "plt.plot(theta1s,costs)\n",
    "plt.show()\n",
    "print(pga.distance)\n"
   ]
  },
  {
   "cell_type": "code",
   "execution_count": 6,
   "metadata": {},
   "outputs": [
    {
     "name": "stdout",
     "output_type": "stream",
     "text": [
      "1.0000000000000104\n",
      "5.5791338540719\n"
     ]
    }
   ],
   "source": [
    "#调整theta\n",
    "def partial_cost_theta0(x,y,theta0,theta1):\n",
    "    #我们的模型时线性拟合函数：y=theta1*x + theta0，而不是sigmoid函数，当非线性时我们可以用sigmoid\n",
    "    #直接多整个x series操作，省的一个一个计算，最终求sum 再平均\n",
    "    h=theta1*x+theta0  \n",
    "    diff=(h-y)\n",
    "    partial=diff.sum()/len(diff)\n",
    "    return partial\n",
    "partial0=partial_cost_theta0(pga.distance,pga.accuracy,1,1)\n",
    "def partial_cost_theta1(x,y,theta0,theta1):\n",
    "    h=theta1*x+theta0#我们的模型时线性拟合函数：y=theta1*x + theta0，而不是sigmoid函数，当非线性时我们可以用sigmoid\n",
    "    diff=(h-y)*x\n",
    "    partial=diff.sum()/len(diff)\n",
    "    return partial\n",
    "partial1=partial_cost_theta1(pga.distance,pga.accuracy,0,5)\n",
    "print(partial0)\n",
    "print(partial1)"
   ]
  },
  {
   "cell_type": "code",
   "execution_count": 7,
   "metadata": {},
   "outputs": [
    {
     "name": "stdout",
     "output_type": "stream",
     "text": [
      "Theta1 = -0.6046983166379609\n",
      "-0.5976256382464714\n"
     ]
    },
    {
     "data": {
      "image/png": "[encoded data removed]",
      "text/plain": [
       "<Figure size 432x288 with 1 Axes>"
      ]
     },
     "metadata": {
      "needs_background": "light"
     },
     "output_type": "display_data"
    }
   ],
   "source": [
    "def gradient_descent(x,y,alpha=0.1,theta0=0,theta1=0):  #设置默认参数\n",
    "    #计算成本\n",
    "    #调整权值\n",
    "    #计算错误代价，判断是否收敛或者达到最大迭代次数\n",
    "    most_iterations=1000\n",
    "    convergence_thres=0.000001 \n",
    "    \n",
    "    \n",
    "    c=cost(x,y,theta0,theta1)\n",
    "    costs=[c]\n",
    "    cost_pre=c+convergence_thres+1.0\n",
    "    \n",
    "    counter=0\n",
    "    while( (np.abs(c-cost_pre)>convergence_thres) & (counter<most_iterations) ):\n",
    "        \n",
    "        update0=alpha*partial_cost_theta0(x,y,theta0,theta1)\n",
    "        update1=alpha*partial_cost_theta1(x,y,theta0,theta1)\n",
    "        \n",
    "        theta0-=update0\n",
    "        theta1-=update1\n",
    "\n",
    "        cost_pre=c\n",
    "        c=cost(x,y,theta0,theta1)\n",
    "        costs.append(c)\n",
    "        counter+=1\n",
    "    return  {'theta0': theta0, 'theta1': theta1, \"costs\": costs}\n",
    "\n",
    "print(\"Theta1 =\", gradient_descent(pga.distance, pga.accuracy)['theta1'])\n",
    "costs=gradient_descent(pga.distance,pga.accuracy,alpha=.01)['costs']\n",
    "print(gradient_descent(pga.distance, pga.accuracy,alpha=.01)['theta1'])\n",
    "plt.scatter(range(len(costs)),costs)\n",
    "plt.show()\n",
    "\n",
    "# result=gradient_descent(pga.distance, pga.accuracy,alpha=.01)\n",
    "# print(\"Theta0 =\", result['theta0'])\n",
    "# print(\"Theta1 =\",  result['theta1'])\n",
    "# costs=result['costs']\n",
    "# plt.scatter(range(len(costs)),costs)\n",
    "# plt.show()"
   ]
  },
  {
   "cell_type": "code",
   "execution_count": null,
   "metadata": {},
   "outputs": [],
   "source": []
  },
  {
   "cell_type": "code",
   "execution_count": null,
   "metadata": {
    "collapsed": true
   },
   "outputs": [],
   "source": []
  },
  {
   "cell_type": "code",
   "execution_count": null,
   "metadata": {
    "collapsed": true
   },
   "outputs": [],
   "source": []
  },
  {
   "cell_type": "code",
   "execution_count": null,
   "metadata": {
    "collapsed": true
   },
   "outputs": [],
   "source": []
  },
  {
   "cell_type": "code",
   "execution_count": null,
   "metadata": {
    "collapsed": true
   },
   "outputs": [],
   "source": []
  },
  {
   "cell_type": "code",
   "execution_count": null,
   "metadata": {
    "collapsed": true
   },
   "outputs": [],
   "source": []
  },
  {
   "cell_type": "code",
   "execution_count": null,
   "metadata": {
    "collapsed": true
   },
   "outputs": [],
   "source": []
  },
  {
   "cell_type": "code",
   "execution_count": null,
   "metadata": {
    "collapsed": true
   },
   "outputs": [],
   "source": []
  },
  {
   "cell_type": "code",
   "execution_count": null,
   "metadata": {
    "collapsed": true
   },
   "outputs": [],
   "source": []
  },
  {
   "cell_type": "code",
   "execution_count": null,
   "metadata": {
    "collapsed": true
   },
   "outputs": [],
   "source": []
  },
  {
   "cell_type": "code",
   "execution_count": null,
   "metadata": {
    "collapsed": true
   },
   "outputs": [],
   "source": []
  },
  {
   "cell_type": "code",
   "execution_count": null,
   "metadata": {
    "collapsed": true
   },
   "outputs": [],
   "source": []
  },
  {
   "cell_type": "code",
   "execution_count": null,
   "metadata": {
    "collapsed": true
   },
   "outputs": [],
   "source": []
  },
  {
   "cell_type": "code",
   "execution_count": null,
   "metadata": {
    "collapsed": true
   },
   "outputs": [],
   "source": []
  },
  {
   "cell_type": "code",
   "execution_count": null,
   "metadata": {
    "collapsed": true
   },
   "outputs": [],
   "source": []
  },
  {
   "cell_type": "code",
   "execution_count": null,
   "metadata": {
    "collapsed": true
   },
   "outputs": [],
   "source": []
  },
  {
   "cell_type": "code",
   "execution_count": null,
   "metadata": {
    "collapsed": true
   },
   "outputs": [],
   "source": []
  },
  {
   "cell_type": "code",
   "execution_count": null,
   "metadata": {
    "collapsed": true
   },
   "outputs": [],
   "source": []
  },
  {
   "cell_type": "code",
   "execution_count": null,
   "metadata": {
    "collapsed": true
   },
   "outputs": [],
   "source": []
  },
  {
   "cell_type": "code",
   "execution_count": null,
   "metadata": {
    "collapsed": true
   },
   "outputs": [],
   "source": []
  },
  {
   "cell_type": "code",
   "execution_count": null,
   "metadata": {
    "collapsed": true
   },
   "outputs": [],
   "source": []
  },
  {
   "cell_type": "code",
   "execution_count": null,
   "metadata": {
    "collapsed": true
   },
   "outputs": [],
   "source": []
  },
  {
   "cell_type": "code",
   "execution_count": null,
   "metadata": {
    "collapsed": true
   },
   "outputs": [],
   "source": []
  },
  {
   "cell_type": "code",
   "execution_count": null,
   "metadata": {
    "collapsed": true
   },
   "outputs": [],
   "source": []
  },
  {
   "cell_type": "code",
   "execution_count": null,
   "metadata": {
    "collapsed": true
   },
   "outputs": [],
   "source": []
  },
  {
   "cell_type": "code",
   "execution_count": null,
   "metadata": {
    "collapsed": true
   },
   "outputs": [],
   "source": []
  },
  {
   "cell_type": "code",
   "execution_count": null,
   "metadata": {
    "collapsed": true
   },
   "outputs": [],
   "source": []
  },
  {
   "cell_type": "code",
   "execution_count": null,
   "metadata": {
    "collapsed": true
   },
   "outputs": [],
   "source": []
  },
  {
   "cell_type": "code",
   "execution_count": null,
   "metadata": {
    "collapsed": true
   },
   "outputs": [],
   "source": []
  },
  {
   "cell_type": "code",
   "execution_count": null,
   "metadata": {
    "collapsed": true
   },
   "outputs": [],
   "source": []
  },
  {
   "cell_type": "code",
   "execution_count": null,
   "metadata": {
    "collapsed": true
   },
   "outputs": [],
   "source": []
  },
  {
   "cell_type": "code",
   "execution_count": null,
   "metadata": {
    "collapsed": true
   },
   "outputs": [],
   "source": []
  },
  {
   "cell_type": "code",
   "execution_count": null,
   "metadata": {
    "collapsed": true
   },
   "outputs": [],
   "source": []
  },
  {
   "cell_type": "code",
   "execution_count": null,
   "metadata": {
    "collapsed": true
   },
   "outputs": [],
   "source": []
  },
  {
   "cell_type": "code",
   "execution_count": null,
   "metadata": {
    "collapsed": true
   },
   "outputs": [],
   "source": []
  },
  {
   "cell_type": "code",
   "execution_count": null,
   "metadata": {
    "collapsed": true
   },
   "outputs": [],
   "source": []
  },
  {
   "cell_type": "code",
   "execution_count": null,
   "metadata": {
    "collapsed": true
   },
   "outputs": [],
   "source": []
  },
  {
   "cell_type": "code",
   "execution_count": null,
   "metadata": {
    "collapsed": true
   },
   "outputs": [],
   "source": []
  },
  {
   "cell_type": "code",
   "execution_count": null,
   "metadata": {
    "collapsed": true
   },
   "outputs": [],
   "source": []
  },
  {
   "cell_type": "code",
   "execution_count": null,
   "metadata": {
    "collapsed": true
   },
   "outputs": [],
   "source": []
  },
  {
   "cell_type": "code",
   "execution_count": null,
   "metadata": {
    "collapsed": true
   },
   "outputs": [],
   "source": []
  },
  {
   "cell_type": "code",
   "execution_count": null,
   "metadata": {
    "collapsed": true
   },
   "outputs": [],
   "source": []
  },
  {
   "cell_type": "code",
   "execution_count": null,
   "metadata": {
    "collapsed": true
   },
   "outputs": [],
   "source": []
  },
  {
   "cell_type": "code",
   "execution_count": null,
   "metadata": {
    "collapsed": true
   },
   "outputs": [],
   "source": []
  },
  {
   "cell_type": "code",
   "execution_count": null,
   "metadata": {
    "collapsed": true
   },
   "outputs": [],
   "source": []
  }
 ],
 "metadata": {
  "kernelspec": {
   "display_name": "Python 3",
   "language": "python",
   "name": "python3"
  },
  "language_info": {
   "codemirror_mode": {
    "name": "ipython",
    "version": 3
   },
   "file_extension": ".py",
   "mimetype": "text/x-python",
   "name": "python",
   "nbconvert_exporter": "python",
   "pygments_lexer": "ipython3",
   "version": "3.7.0"
  }
 },
 "nbformat": 4,
 "nbformat_minor": 2
}
