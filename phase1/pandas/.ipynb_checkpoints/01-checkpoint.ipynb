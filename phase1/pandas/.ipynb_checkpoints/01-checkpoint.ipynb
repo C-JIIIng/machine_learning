{
 "cells": [
  {
   "cell_type": "code",
   "execution_count": 11,
   "metadata": {},
   "outputs": [
    {
     "data": {
      "text/plain": [
       "AeqO48ACEAdv                         object\n",
       "SH000001                             object\n",
       "CSSearch                             object\n",
       "1.53E+12                            float64\n",
       "2018-5-28                            object\n",
       "16                                    int64\n",
       "1527497943                            int64\n",
       "0b85cdb970fbc86847f6c4e4563845b2     object\n",
       "8gop-omp1-cnf7-wthi                  object\n",
       "68a02e775156861d6e9730804a7329d1     object\n",
       "娌冲崡                                  object\n",
       "淇￠槼                                  object\n",
       "9                                    object\n",
       "5.06                                 object\n",
       "OPPO                                 object\n",
       "AOFOHBLJUAGQAHGM                     object\n",
       "android                              object\n",
       "Unnamed: 17                          object\n",
       "172.190.12.160                       object\n",
       "brGCcqJMKctq                         object\n",
       "empty                                object\n",
       "android.1                            object\n",
       "5.01                                 object\n",
       "480*854                              object\n",
       "dtype: object"
      ]
     },
     "execution_count": 11,
     "metadata": {},
     "output_type": "execute_result"
    }
   ],
   "source": [
    "import pandas as pd\n",
    "# pd.read_csv 读入csv文件，文件需要使用utf-8编码\n",
    "haitong = pd.read_csv('./haitong_test.csv')\n",
    "haitong.shape\n",
    "haitong.dtypes"
   ]
  },
  {
   "cell_type": "code",
   "execution_count": 16,
   "metadata": {},
   "outputs": [
    {
     "data": {
      "text/plain": [
       "Index(['AeqO48ACEAdv', 'SH000001', 'CSSearch', '1.53E+12', '2018-5-28', '16',\n",
       "       '1527497943', '0b85cdb970fbc86847f6c4e4563845b2', '8gop-omp1-cnf7-wthi',\n",
       "       '68a02e775156861d6e9730804a7329d1', '娌冲崡', '淇￠槼', '9', '5.06', 'OPPO',\n",
       "       'AOFOHBLJUAGQAHGM', 'android', 'Unnamed: 17', '172.190.12.160',\n",
       "       'brGCcqJMKctq', 'empty', 'android.1', '5.01', '480*854'],\n",
       "      dtype='object')"
      ]
     },
     "execution_count": 16,
     "metadata": {},
     "output_type": "execute_result"
    }
   ],
   "source": [
    "# 读取文件的前几行\n",
    "# haitong.head()\n",
    "\n",
    "# 读取文件的尾部几行\n",
    "haitong.tail()\n",
    "\n",
    "haitong.columns"
   ]
  },
  {
   "cell_type": "code",
   "execution_count": 17,
   "metadata": {},
   "outputs": [
    {
     "data": {
      "text/plain": [
       "AeqO48ACEAdv                                            AeqO48ACEAdv\n",
       "SH000001                                                    SH601375\n",
       "CSSearch                                                    CSSearch\n",
       "1.53E+12                                                    1.53e+12\n",
       "2018-5-28                                                  2018-5-28\n",
       "16                                                                16\n",
       "1527497943                                                1527497943\n",
       "0b85cdb970fbc86847f6c4e4563845b2    0b85cdb970fbc86847f6c4e4563845b2\n",
       "8gop-omp1-cnf7-wthi                              8gop-omp1-cnf7-wthi\n",
       "68a02e775156861d6e9730804a7329d1    68a02e775156861d6e9730804a7329d1\n",
       "娌冲崡                                                              娌冲崡\n",
       "淇￠槼                                                              淇￠槼\n",
       "9                                                                  9\n",
       "5.06                                                            5.06\n",
       "OPPO                                                            OPPO\n",
       "AOFOHBLJUAGQAHGM                                    AOFOHBLJUAGQAHGM\n",
       "android                                                      android\n",
       "Unnamed: 17                                                      NaN\n",
       "172.190.12.160                                        172.190.12.160\n",
       "brGCcqJMKctq                                            brGCcqJMKctq\n",
       "empty                                                          empty\n",
       "android.1                                                    android\n",
       "5.01                                                            5.01\n",
       "480*854                                                      480*854\n",
       "Name: 0, dtype: object"
      ]
     },
     "execution_count": 17,
     "metadata": {},
     "output_type": "execute_result"
    }
   ],
   "source": [
    "haitong.loc[0]"
   ]
  },
  {
   "cell_type": "code",
   "execution_count": null,
   "metadata": {},
   "outputs": [],
   "source": []
  }
 ],
 "metadata": {
  "kernelspec": {
   "display_name": "Python 3",
   "language": "python",
   "name": "python3"
  },
  "language_info": {
   "codemirror_mode": {
    "name": "ipython",
    "version": 3
   },
   "file_extension": ".py",
   "mimetype": "text/x-python",
   "name": "python",
   "nbconvert_exporter": "python",
   "pygments_lexer": "ipython3",
   "version": "3.7.0"
  }
 },
 "nbformat": 4,
 "nbformat_minor": 2
}
